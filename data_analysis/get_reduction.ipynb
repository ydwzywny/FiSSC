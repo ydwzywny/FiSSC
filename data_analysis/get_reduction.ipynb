{
 "cells": [
  {
   "cell_type": "code",
   "execution_count": 27,
   "metadata": {},
   "outputs": [
    {
     "name": "stdout",
     "output_type": "stream",
     "text": [
      "['logs\\\\ABL_DROME_filter_log.csv', 'logs\\\\ACHA4_MOUSE_filter_log.csv', 'logs\\\\ANR17_HUMAN_filter_log.csv', 'logs\\\\CA2D3_MOUSE_filter_log.csv', 'logs\\\\CACB2_RABIT_filter_log.csv', 'logs\\\\CSKI1_MOUSE_filter_log.csv', 'logs\\\\DGLA_HUMAN_filter_log.csv', 'logs\\\\DOP1_HUMAN_filter_log.csv', 'logs\\\\GRIA2_filter_log.csv', 'logs\\\\IQEC1_HUMAN_filter_log.csv', 'logs\\\\K0513_MOUSE_filter_log.csv', 'logs\\\\KCNAS_DROME_filter_log.csv', 'logs\\\\MTUS2_HUMAN_filter_log.csv', 'logs\\\\PCLO_CHICK_filter_log.csv', 'logs\\\\PCLO_filter_log.csv', 'logs\\\\RIMS2_RAT_filter_log.csv', 'logs\\\\ROBO2_HUMAN_filter_log.csv', 'logs\\\\RUSC2_MOUSE_filter_log.csv', 'logs\\\\SCN1_HETBL_filter_log.csv', 'logs\\\\TRIM2_BOVIN_filter_log.csv', 'logs\\\\TWK7_CAEEL_filter_log.csv']\n"
     ]
    }
   ],
   "source": [
    "import os\n",
    "import pandas as pd\n",
    "\n",
    "\n",
    "\n",
    "path = 'logs'\n",
    "files = os.listdir(path)\n",
    "files = [f for f in files if f.endswith('.csv')]\n",
    "files = [os.path.join(path, f) for f in files]\n",
    "print(files)"
   ]
  },
  {
   "cell_type": "code",
   "execution_count": 28,
   "metadata": {},
   "outputs": [],
   "source": [
    "def get_diff(file):\n",
    "    df = pd.read_csv(file)\n",
    "    last_index = df['Working'].last_valid_index()\n",
    "    diff = df['Working'][0] - df['Working'][last_index]\n",
    "    diff_in_percent = diff / df['Working'][0] * 100\n",
    "\n",
    "    return diff, diff_in_percent"
   ]
  },
  {
   "cell_type": "code",
   "execution_count": 29,
   "metadata": {},
   "outputs": [],
   "source": [
    "def get_average_diff_in_percent(files, verbose=False):\n",
    "    diffs = []\n",
    "    for file in files:\n",
    "        diff, diff_in_percent = get_diff(file)\n",
    "        diffs.append(diff_in_percent)\n",
    "        if verbose:\n",
    "            print(file, diff_in_percent)\n",
    "\n",
    "    average = sum(diffs) / len(diffs)\n",
    "    std = (sum([(x - average) ** 2 for x in diffs]) / len(diffs)) ** 0.5\n",
    "\n",
    "    print('Average:', average)\n",
    "    print('Std:', std)"
   ]
  },
  {
   "cell_type": "code",
   "execution_count": 30,
   "metadata": {},
   "outputs": [],
   "source": [
    "long_files = ['logs\\\\GRIA2_filter_log.csv', 'logs\\\\PCLO_filter_log.csv']\n",
    "short_files = list(set(files) - set(long_files))"
   ]
  },
  {
   "cell_type": "code",
   "execution_count": 31,
   "metadata": {},
   "outputs": [
    {
     "name": "stdout",
     "output_type": "stream",
     "text": [
      "Average: 97.30154852500588\n",
      "Std: 8.466616402897234\n",
      "logs\\GRIA2_filter_log.csv 60.72366060468718\n",
      "logs\\PCLO_filter_log.csv 89.60451547919953\n",
      "Average: 75.16408804194336\n",
      "Std: 14.440427437256176\n",
      "Average: 99.63180752322299\n",
      "Std: 0.5128467604143405\n"
     ]
    }
   ],
   "source": [
    "get_average_diff_in_percent(files)\n",
    "get_average_diff_in_percent(long_files,verbose=True)\n",
    "get_average_diff_in_percent(short_files)"
   ]
  },
  {
   "cell_type": "code",
   "execution_count": 32,
   "metadata": {},
   "outputs": [],
   "source": [
    "def get_diff_x(file):\n",
    "    df = pd.read_csv(file)\n",
    "    last_index = df['X count'].last_valid_index()\n",
    "    diff = df['X count'][0] - df['X count'][last_index]\n",
    "    diff_in_percent = diff / df['X count'][0] * 100\n",
    "\n",
    "    return diff, diff_in_percent"
   ]
  },
  {
   "cell_type": "code",
   "execution_count": 33,
   "metadata": {},
   "outputs": [],
   "source": [
    "def get_average_diff_in_percent_x(files, verbose=False):\n",
    "    diffs = []\n",
    "    for file in files:\n",
    "        diff, diff_in_percent = get_diff_x(file)\n",
    "        diffs.append(diff_in_percent)\n",
    "        if verbose:\n",
    "            print(file, diff_in_percent)\n",
    "\n",
    "    average = sum(diffs) / len(diffs)\n",
    "    std = (sum([(x - average) ** 2 for x in diffs]) / len(diffs)) ** 0.5\n",
    "\n",
    "    print('Average:', average)\n",
    "    print('Std:', std)"
   ]
  },
  {
   "cell_type": "code",
   "execution_count": 34,
   "metadata": {},
   "outputs": [
    {
     "name": "stdout",
     "output_type": "stream",
     "text": [
      "Average: 97.73967421896201\n",
      "Std: 7.506469922997872\n",
      "logs\\GRIA2_filter_log.csv 65.18383478295272\n",
      "logs\\PCLO_filter_log.csv 91.28866003510825\n",
      "Average: 78.23624740903048\n",
      "Std: 13.052412626077768\n",
      "Average: 99.79266651474428\n",
      "Std: 0.2999885484234577\n"
     ]
    }
   ],
   "source": [
    "get_average_diff_in_percent_x(files)\n",
    "get_average_diff_in_percent_x(long_files,verbose=True)\n",
    "get_average_diff_in_percent_x(short_files)"
   ]
  }
 ],
 "metadata": {
  "kernelspec": {
   "display_name": "Python 3",
   "language": "python",
   "name": "python3"
  },
  "language_info": {
   "codemirror_mode": {
    "name": "ipython",
    "version": 3
   },
   "file_extension": ".py",
   "mimetype": "text/x-python",
   "name": "python",
   "nbconvert_exporter": "python",
   "pygments_lexer": "ipython3",
   "version": "3.11.4"
  }
 },
 "nbformat": 4,
 "nbformat_minor": 2
}
