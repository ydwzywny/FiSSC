{
 "cells": [
  {
   "cell_type": "markdown",
   "metadata": {},
   "source": [
    "# Running commands for normal algorithm"
   ]
  },
  {
   "cell_type": "code",
   "execution_count": 2,
   "metadata": {},
   "outputs": [
    {
     "name": "stdout",
     "output_type": "stream",
     "text": [
      "nohup /usr/bin/time -v python -u ./tool.py --file_name reads.sorted.aligned.filtered.comp126362_c0_seq1.reads.degenerate.fa.gz --do_logs > output.log_0 2>&1 &\n",
      "nohup /usr/bin/time -v python -u ./tool.py --file_name reads.sorted.aligned.filtered.comp136058_c0_seq1.reads.degenerate.fa.gz --do_logs > output.log_1 2>&1 &\n",
      "nohup /usr/bin/time -v python -u ./tool.py --file_name reads.sorted.aligned.filtered.comp140439_c0_seq1.reads.degenerate.fa.gz --do_logs > output.log_2 2>&1 &\n",
      "nohup /usr/bin/time -v python -u ./tool.py --file_name reads.sorted.aligned.filtered.comp140712_c0_seq3.reads.degenerate.fa.gz --do_logs > output.log_3 2>&1 &\n",
      "nohup /usr/bin/time -v python -u ./tool.py --file_name reads.sorted.aligned.filtered.comp140910_c2_seq1.reads.degenerate.fa.gz --do_logs > output.log_4 2>&1 &\n",
      "nohup /usr/bin/time -v python -u ./tool.py --file_name reads.sorted.aligned.filtered.comp140987_c3_seq1.reads.degenerate.fa.gz --do_logs > output.log_5 2>&1 &\n",
      "nohup /usr/bin/time -v python -u ./tool.py --file_name reads.sorted.aligned.filtered.comp141044_c0_seq2.reads.degenerate.fa.gz --do_logs > output.log_6 2>&1 &\n",
      "nohup /usr/bin/time -v python -u ./tool.py --file_name reads.sorted.aligned.filtered.comp141158_c1_seq2.reads.degenerate.fa.gz --do_logs > output.log_7 2>&1 &\n",
      "nohup /usr/bin/time -v python -u ./tool.py --file_name reads.sorted.aligned.filtered.comp141378_c0_seq7.reads.degenerate.fa.gz --do_logs > output.log_8 2>&1 &\n",
      "nohup /usr/bin/time -v python -u ./tool.py --file_name reads.sorted.aligned.filtered.comp141517_c0_seq1.reads.degenerate.fa.gz --do_logs > output.log_9 2>&1 &\n",
      "nohup /usr/bin/time -v python -u ./tool.py --file_name reads.sorted.aligned.filtered.comp141532_c3_seq11.reads.degenerate.fa.gz --do_logs > output.log_10 2>&1 &\n",
      "nohup /usr/bin/time -v python -u ./tool.py --file_name reads.sorted.aligned.filtered.comp141565_c6_seq3.reads.degenerate.fa.gz --do_logs > output.log_11 2>&1 &\n",
      "nohup /usr/bin/time -v python -u ./tool.py --file_name reads.sorted.aligned.filtered.comp141574_c0_seq3.reads.degenerate.fa.gz --do_logs > output.log_12 2>&1 &\n",
      "nohup /usr/bin/time -v python -u ./tool.py --file_name reads.sorted.aligned.filtered.comp141640_c0_seq1.reads.degenerate.fa.gz --do_logs > output.log_13 2>&1 &\n",
      "nohup /usr/bin/time -v python -u ./tool.py --file_name reads.sorted.aligned.filtered.comp141684_c0_seq1.reads.degenerate.fa.gz --do_logs > output.log_14 2>&1 &\n",
      "nohup /usr/bin/time -v python -u ./tool.py --file_name reads.sorted.aligned.filtered.comp141840_c0_seq2.reads.degenerate.fa.gz --do_logs > output.log_15 2>&1 &\n",
      "nohup /usr/bin/time -v python -u ./tool.py --file_name reads.sorted.aligned.filtered.comp141880_c1_seq3.reads.degenerate.fa.gz --do_logs > output.log_16 2>&1 &\n",
      "nohup /usr/bin/time -v python -u ./tool.py --file_name reads.sorted.aligned.filtered.comp141881_c0_seq3.reads.degenerate.fa.gz --do_logs > output.log_17 2>&1 &\n",
      "nohup /usr/bin/time -v python -u ./tool.py --file_name reads.sorted.aligned.filtered.comp141882_c0_seq14.reads.degenerate.fa.gz --do_logs > output.log_18 2>&1 &\n",
      "nohup /usr/bin/time -v python -u ./tool.py --file_name PCLO-CNS-RESUB.C0x1291.aligned.sorted.MinRQ998.reads.degenerate.fa.gz --do_logs > output.log_19 2>&1 &\n",
      "nohup /usr/bin/time -v python -u ./tool.py --file_name GRIA-CNS-RESUB.C0x1291.aligned.sorted.MinRQ998.reads.degenerate.fa.gz --do_logs > output.log_20 2>&1 &\n"
     ]
    }
   ],
   "source": [
    "general_string = 'nohup /usr/bin/time -v python -u ./tool.py --file_name reads.sorted.aligned.filtered.comp126362_c0_seq1.reads.degenerate.fa.gz --do_logs > output.log_xxx 2>&1 &'\n",
    "# get all files in ../data ending in .gz\n",
    "import os\n",
    "import re\n",
    "import subprocess\n",
    "import time\n",
    "\n",
    "files = [f for f in os.listdir('../data/short_reads') if re.match(r'.*\\.gz', f)] + [f for f in os.listdir('../data/long_reads') if re.match(r'.*\\.gz', f)]\n",
    "# put files named gria last\n",
    "files = [f for f in files if not re.match(r'.*GRIA.*', f)] + [f for f in files if re.match(r'.*GRIA.*', f)]\n",
    "for i, file in enumerate(files):\n",
    "    command = general_string.replace('reads.sorted.aligned.filtered.comp126362_c0_seq1.reads.degenerate.fa.gz', file)\n",
    "    command = command.replace('output.log_xxx', 'output.log_' + str(i))\n",
    "    print(command)\n",
    "    "
   ]
  },
  {
   "cell_type": "code",
   "execution_count": 3,
   "metadata": {},
   "outputs": [
    {
     "name": "stdout",
     "output_type": "stream",
     "text": [
      "nohup /usr/bin/time -v python -u ./tool.py --file_name GRIA-CNS-RESUB.C0x1291.aligned.sorted.MinRQ998.reads.degenerate.fa.gz --ILP_time_restriction_in_minutes 1440 --do_logs > output.log_20 2>&1 &\n"
     ]
    }
   ],
   "source": [
    "print('nohup /usr/bin/time -v python -u ./tool.py --file_name GRIA-CNS-RESUB.C0x1291.aligned.sorted.MinRQ998.reads.degenerate.fa.gz --ILP_time_restriction_in_minutes 1440 --do_logs > output.log_20 2>&1 &')"
   ]
  },
  {
   "cell_type": "markdown",
   "metadata": {},
   "source": [
    "# Greedy"
   ]
  },
  {
   "cell_type": "code",
   "execution_count": 4,
   "metadata": {},
   "outputs": [
    {
     "name": "stdout",
     "output_type": "stream",
     "text": [
      "nohup /usr/bin/time -v python -u ./tool.py --algorithm Greedy --file_name reads.sorted.aligned.filtered.comp126362_c0_seq1.reads.degenerate.fa.gz --do_logs > output.log_greedy_0 2>&1 &\n",
      "nohup /usr/bin/time -v python -u ./tool.py --algorithm Greedy --file_name reads.sorted.aligned.filtered.comp136058_c0_seq1.reads.degenerate.fa.gz --do_logs > output.log_greedy_1 2>&1 &\n",
      "nohup /usr/bin/time -v python -u ./tool.py --algorithm Greedy --file_name reads.sorted.aligned.filtered.comp140439_c0_seq1.reads.degenerate.fa.gz --do_logs > output.log_greedy_2 2>&1 &\n",
      "nohup /usr/bin/time -v python -u ./tool.py --algorithm Greedy --file_name reads.sorted.aligned.filtered.comp140712_c0_seq3.reads.degenerate.fa.gz --do_logs > output.log_greedy_3 2>&1 &\n",
      "nohup /usr/bin/time -v python -u ./tool.py --algorithm Greedy --file_name reads.sorted.aligned.filtered.comp140910_c2_seq1.reads.degenerate.fa.gz --do_logs > output.log_greedy_4 2>&1 &\n",
      "nohup /usr/bin/time -v python -u ./tool.py --algorithm Greedy --file_name reads.sorted.aligned.filtered.comp140987_c3_seq1.reads.degenerate.fa.gz --do_logs > output.log_greedy_5 2>&1 &\n",
      "nohup /usr/bin/time -v python -u ./tool.py --algorithm Greedy --file_name reads.sorted.aligned.filtered.comp141044_c0_seq2.reads.degenerate.fa.gz --do_logs > output.log_greedy_6 2>&1 &\n",
      "nohup /usr/bin/time -v python -u ./tool.py --algorithm Greedy --file_name reads.sorted.aligned.filtered.comp141158_c1_seq2.reads.degenerate.fa.gz --do_logs > output.log_greedy_7 2>&1 &\n",
      "nohup /usr/bin/time -v python -u ./tool.py --algorithm Greedy --file_name reads.sorted.aligned.filtered.comp141378_c0_seq7.reads.degenerate.fa.gz --do_logs > output.log_greedy_8 2>&1 &\n",
      "nohup /usr/bin/time -v python -u ./tool.py --algorithm Greedy --file_name reads.sorted.aligned.filtered.comp141517_c0_seq1.reads.degenerate.fa.gz --do_logs > output.log_greedy_9 2>&1 &\n",
      "nohup /usr/bin/time -v python -u ./tool.py --algorithm Greedy --file_name reads.sorted.aligned.filtered.comp141532_c3_seq11.reads.degenerate.fa.gz --do_logs > output.log_greedy_10 2>&1 &\n",
      "nohup /usr/bin/time -v python -u ./tool.py --algorithm Greedy --file_name reads.sorted.aligned.filtered.comp141565_c6_seq3.reads.degenerate.fa.gz --do_logs > output.log_greedy_11 2>&1 &\n",
      "nohup /usr/bin/time -v python -u ./tool.py --algorithm Greedy --file_name reads.sorted.aligned.filtered.comp141574_c0_seq3.reads.degenerate.fa.gz --do_logs > output.log_greedy_12 2>&1 &\n",
      "nohup /usr/bin/time -v python -u ./tool.py --algorithm Greedy --file_name reads.sorted.aligned.filtered.comp141640_c0_seq1.reads.degenerate.fa.gz --do_logs > output.log_greedy_13 2>&1 &\n",
      "nohup /usr/bin/time -v python -u ./tool.py --algorithm Greedy --file_name reads.sorted.aligned.filtered.comp141684_c0_seq1.reads.degenerate.fa.gz --do_logs > output.log_greedy_14 2>&1 &\n",
      "nohup /usr/bin/time -v python -u ./tool.py --algorithm Greedy --file_name reads.sorted.aligned.filtered.comp141840_c0_seq2.reads.degenerate.fa.gz --do_logs > output.log_greedy_15 2>&1 &\n",
      "nohup /usr/bin/time -v python -u ./tool.py --algorithm Greedy --file_name reads.sorted.aligned.filtered.comp141880_c1_seq3.reads.degenerate.fa.gz --do_logs > output.log_greedy_16 2>&1 &\n",
      "nohup /usr/bin/time -v python -u ./tool.py --algorithm Greedy --file_name reads.sorted.aligned.filtered.comp141881_c0_seq3.reads.degenerate.fa.gz --do_logs > output.log_greedy_17 2>&1 &\n",
      "nohup /usr/bin/time -v python -u ./tool.py --algorithm Greedy --file_name reads.sorted.aligned.filtered.comp141882_c0_seq14.reads.degenerate.fa.gz --do_logs > output.log_greedy_18 2>&1 &\n",
      "nohup /usr/bin/time -v python -u ./tool.py --algorithm Greedy --file_name PCLO-CNS-RESUB.C0x1291.aligned.sorted.MinRQ998.reads.degenerate.fa.gz --do_logs > output.log_greedy_19 2>&1 &\n",
      "nohup /usr/bin/time -v python -u ./tool.py --algorithm Greedy --file_name GRIA-CNS-RESUB.C0x1291.aligned.sorted.MinRQ998.reads.degenerate.fa.gz --do_logs > output.log_greedy_20 2>&1 &\n"
     ]
    }
   ],
   "source": [
    "for i, file in enumerate(files):\n",
    "    greedy_string = 'nohup /usr/bin/time -v python -u ./tool.py --algorithm Greedy --file_name reads.sorted.aligned.filtered.comp126362_c0_seq1.reads.degenerate.fa.gz --do_logs > output.log_xxx 2>&1 &'\n",
    "\n",
    "    command = greedy_string.replace('reads.sorted.aligned.filtered.comp126362_c0_seq1.reads.degenerate.fa.gz', file)\n",
    "    command = command.replace('output.log_xxx', 'output.log_greedy_' + str(i))\n",
    "    print(command)"
   ]
  },
  {
   "cell_type": "markdown",
   "metadata": {},
   "source": [
    "# MIS ILP"
   ]
  },
  {
   "cell_type": "code",
   "execution_count": 5,
   "metadata": {},
   "outputs": [
    {
     "name": "stdout",
     "output_type": "stream",
     "text": [
      "nohup /usr/bin/time -v python -u ./tool.py --algorithm MIS_ILP --file_name reads.sorted.aligned.filtered.comp126362_c0_seq1.reads.degenerate.fa.gz > output.log_mis_ilp_0 2>&1 &\n",
      "nohup /usr/bin/time -v python -u ./tool.py --algorithm MIS_ILP --file_name reads.sorted.aligned.filtered.comp136058_c0_seq1.reads.degenerate.fa.gz > output.log_mis_ilp_1 2>&1 &\n",
      "nohup /usr/bin/time -v python -u ./tool.py --algorithm MIS_ILP --file_name reads.sorted.aligned.filtered.comp140439_c0_seq1.reads.degenerate.fa.gz > output.log_mis_ilp_2 2>&1 &\n",
      "nohup /usr/bin/time -v python -u ./tool.py --algorithm MIS_ILP --file_name reads.sorted.aligned.filtered.comp140712_c0_seq3.reads.degenerate.fa.gz > output.log_mis_ilp_3 2>&1 &\n",
      "nohup /usr/bin/time -v python -u ./tool.py --algorithm MIS_ILP --file_name reads.sorted.aligned.filtered.comp140910_c2_seq1.reads.degenerate.fa.gz > output.log_mis_ilp_4 2>&1 &\n",
      "nohup /usr/bin/time -v python -u ./tool.py --algorithm MIS_ILP --file_name reads.sorted.aligned.filtered.comp140987_c3_seq1.reads.degenerate.fa.gz > output.log_mis_ilp_5 2>&1 &\n",
      "nohup /usr/bin/time -v python -u ./tool.py --algorithm MIS_ILP --file_name reads.sorted.aligned.filtered.comp141044_c0_seq2.reads.degenerate.fa.gz > output.log_mis_ilp_6 2>&1 &\n",
      "nohup /usr/bin/time -v python -u ./tool.py --algorithm MIS_ILP --file_name reads.sorted.aligned.filtered.comp141158_c1_seq2.reads.degenerate.fa.gz > output.log_mis_ilp_7 2>&1 &\n",
      "nohup /usr/bin/time -v python -u ./tool.py --algorithm MIS_ILP --file_name reads.sorted.aligned.filtered.comp141378_c0_seq7.reads.degenerate.fa.gz > output.log_mis_ilp_8 2>&1 &\n",
      "nohup /usr/bin/time -v python -u ./tool.py --algorithm MIS_ILP --file_name reads.sorted.aligned.filtered.comp141517_c0_seq1.reads.degenerate.fa.gz > output.log_mis_ilp_9 2>&1 &\n",
      "nohup /usr/bin/time -v python -u ./tool.py --algorithm MIS_ILP --file_name reads.sorted.aligned.filtered.comp141532_c3_seq11.reads.degenerate.fa.gz > output.log_mis_ilp_10 2>&1 &\n",
      "nohup /usr/bin/time -v python -u ./tool.py --algorithm MIS_ILP --file_name reads.sorted.aligned.filtered.comp141565_c6_seq3.reads.degenerate.fa.gz > output.log_mis_ilp_11 2>&1 &\n",
      "nohup /usr/bin/time -v python -u ./tool.py --algorithm MIS_ILP --file_name reads.sorted.aligned.filtered.comp141574_c0_seq3.reads.degenerate.fa.gz > output.log_mis_ilp_12 2>&1 &\n",
      "nohup /usr/bin/time -v python -u ./tool.py --algorithm MIS_ILP --file_name reads.sorted.aligned.filtered.comp141640_c0_seq1.reads.degenerate.fa.gz > output.log_mis_ilp_13 2>&1 &\n",
      "nohup /usr/bin/time -v python -u ./tool.py --algorithm MIS_ILP --file_name reads.sorted.aligned.filtered.comp141684_c0_seq1.reads.degenerate.fa.gz > output.log_mis_ilp_14 2>&1 &\n",
      "nohup /usr/bin/time -v python -u ./tool.py --algorithm MIS_ILP --file_name reads.sorted.aligned.filtered.comp141840_c0_seq2.reads.degenerate.fa.gz > output.log_mis_ilp_15 2>&1 &\n",
      "nohup /usr/bin/time -v python -u ./tool.py --algorithm MIS_ILP --file_name reads.sorted.aligned.filtered.comp141880_c1_seq3.reads.degenerate.fa.gz > output.log_mis_ilp_16 2>&1 &\n",
      "nohup /usr/bin/time -v python -u ./tool.py --algorithm MIS_ILP --file_name reads.sorted.aligned.filtered.comp141881_c0_seq3.reads.degenerate.fa.gz > output.log_mis_ilp_17 2>&1 &\n",
      "nohup /usr/bin/time -v python -u ./tool.py --algorithm MIS_ILP --file_name reads.sorted.aligned.filtered.comp141882_c0_seq14.reads.degenerate.fa.gz > output.log_mis_ilp_18 2>&1 &\n",
      "nohup /usr/bin/time -v python -u ./tool.py --algorithm MIS_ILP --file_name PCLO-CNS-RESUB.C0x1291.aligned.sorted.MinRQ998.reads.degenerate.fa.gz > output.log_mis_ilp_19 2>&1 &\n",
      "nohup /usr/bin/time -v python -u ./tool.py --algorithm MIS_ILP --file_name GRIA-CNS-RESUB.C0x1291.aligned.sorted.MinRQ998.reads.degenerate.fa.gz > output.log_mis_ilp_20 2>&1 &\n"
     ]
    }
   ],
   "source": [
    "for i, file in enumerate(files):\n",
    "    mis_ilp_string = 'nohup /usr/bin/time -v python -u ./tool.py --algorithm MIS_ILP --file_name reads.sorted.aligned.filtered.comp126362_c0_seq1.reads.degenerate.fa.gz > output.log_xxx 2>&1 &'\n",
    "\n",
    "    command = mis_ilp_string.replace('reads.sorted.aligned.filtered.comp126362_c0_seq1.reads.degenerate.fa.gz', file)\n",
    "    command = command.replace('output.log_xxx', 'output.log_mis_ilp_' + str(i))\n",
    "    print(command)"
   ]
  },
  {
   "cell_type": "code",
   "execution_count": 6,
   "metadata": {},
   "outputs": [
    {
     "name": "stdout",
     "output_type": "stream",
     "text": [
      "nohup /usr/bin/time -v python -u ./tool.py --algorithm MIS_ILP --file_name GRIA-CNS-RESUB.C0x1291.aligned.sorted.MinRQ998.reads.degenerate.fa.gz --ILP_time_restriction_in_minutes 1440 > output.log_mis_ilp_20 2>&1 &\n"
     ]
    }
   ],
   "source": [
    "print('nohup /usr/bin/time -v python -u ./tool.py --algorithm MIS_ILP --file_name GRIA-CNS-RESUB.C0x1291.aligned.sorted.MinRQ998.reads.degenerate.fa.gz --ILP_time_restriction_in_minutes 1440 > output.log_mis_ilp_20 2>&1 &')"
   ]
  },
  {
   "cell_type": "markdown",
   "metadata": {},
   "source": [
    "# Rerun ILP"
   ]
  },
  {
   "cell_type": "code",
   "execution_count": 7,
   "metadata": {},
   "outputs": [
    {
     "name": "stdout",
     "output_type": "stream",
     "text": [
      "nohup /usr/bin/time -v python -u ./tool.py --algorithm debug_ILP --file_name reads.sorted.aligned.filtered.comp126362_c0_seq1.reads.degenerate.fa.gz > output.log_ilp_rerun_0 2>&1 &\n",
      "nohup /usr/bin/time -v python -u ./tool.py --algorithm debug_ILP --file_name reads.sorted.aligned.filtered.comp136058_c0_seq1.reads.degenerate.fa.gz > output.log_ilp_rerun_1 2>&1 &\n",
      "nohup /usr/bin/time -v python -u ./tool.py --algorithm debug_ILP --file_name reads.sorted.aligned.filtered.comp140439_c0_seq1.reads.degenerate.fa.gz > output.log_ilp_rerun_2 2>&1 &\n",
      "nohup /usr/bin/time -v python -u ./tool.py --algorithm debug_ILP --file_name reads.sorted.aligned.filtered.comp140712_c0_seq3.reads.degenerate.fa.gz > output.log_ilp_rerun_3 2>&1 &\n",
      "nohup /usr/bin/time -v python -u ./tool.py --algorithm debug_ILP --file_name reads.sorted.aligned.filtered.comp140910_c2_seq1.reads.degenerate.fa.gz > output.log_ilp_rerun_4 2>&1 &\n",
      "nohup /usr/bin/time -v python -u ./tool.py --algorithm debug_ILP --file_name reads.sorted.aligned.filtered.comp140987_c3_seq1.reads.degenerate.fa.gz > output.log_ilp_rerun_5 2>&1 &\n",
      "nohup /usr/bin/time -v python -u ./tool.py --algorithm debug_ILP --file_name reads.sorted.aligned.filtered.comp141044_c0_seq2.reads.degenerate.fa.gz > output.log_ilp_rerun_6 2>&1 &\n",
      "nohup /usr/bin/time -v python -u ./tool.py --algorithm debug_ILP --file_name reads.sorted.aligned.filtered.comp141158_c1_seq2.reads.degenerate.fa.gz > output.log_ilp_rerun_7 2>&1 &\n",
      "nohup /usr/bin/time -v python -u ./tool.py --algorithm debug_ILP --file_name reads.sorted.aligned.filtered.comp141378_c0_seq7.reads.degenerate.fa.gz > output.log_ilp_rerun_8 2>&1 &\n",
      "nohup /usr/bin/time -v python -u ./tool.py --algorithm debug_ILP --file_name reads.sorted.aligned.filtered.comp141517_c0_seq1.reads.degenerate.fa.gz > output.log_ilp_rerun_9 2>&1 &\n",
      "nohup /usr/bin/time -v python -u ./tool.py --algorithm debug_ILP --file_name reads.sorted.aligned.filtered.comp141532_c3_seq11.reads.degenerate.fa.gz > output.log_ilp_rerun_10 2>&1 &\n",
      "nohup /usr/bin/time -v python -u ./tool.py --algorithm debug_ILP --file_name reads.sorted.aligned.filtered.comp141565_c6_seq3.reads.degenerate.fa.gz > output.log_ilp_rerun_11 2>&1 &\n",
      "nohup /usr/bin/time -v python -u ./tool.py --algorithm debug_ILP --file_name reads.sorted.aligned.filtered.comp141574_c0_seq3.reads.degenerate.fa.gz > output.log_ilp_rerun_12 2>&1 &\n",
      "nohup /usr/bin/time -v python -u ./tool.py --algorithm debug_ILP --file_name reads.sorted.aligned.filtered.comp141640_c0_seq1.reads.degenerate.fa.gz > output.log_ilp_rerun_13 2>&1 &\n",
      "nohup /usr/bin/time -v python -u ./tool.py --algorithm debug_ILP --file_name reads.sorted.aligned.filtered.comp141684_c0_seq1.reads.degenerate.fa.gz > output.log_ilp_rerun_14 2>&1 &\n",
      "nohup /usr/bin/time -v python -u ./tool.py --algorithm debug_ILP --file_name reads.sorted.aligned.filtered.comp141840_c0_seq2.reads.degenerate.fa.gz > output.log_ilp_rerun_15 2>&1 &\n",
      "nohup /usr/bin/time -v python -u ./tool.py --algorithm debug_ILP --file_name reads.sorted.aligned.filtered.comp141880_c1_seq3.reads.degenerate.fa.gz > output.log_ilp_rerun_16 2>&1 &\n",
      "nohup /usr/bin/time -v python -u ./tool.py --algorithm debug_ILP --file_name reads.sorted.aligned.filtered.comp141881_c0_seq3.reads.degenerate.fa.gz > output.log_ilp_rerun_17 2>&1 &\n",
      "nohup /usr/bin/time -v python -u ./tool.py --algorithm debug_ILP --file_name reads.sorted.aligned.filtered.comp141882_c0_seq14.reads.degenerate.fa.gz > output.log_ilp_rerun_18 2>&1 &\n",
      "nohup /usr/bin/time -v python -u ./tool.py --algorithm debug_ILP --file_name PCLO-CNS-RESUB.C0x1291.aligned.sorted.MinRQ998.reads.degenerate.fa.gz > output.log_ilp_rerun_19 2>&1 &\n",
      "nohup /usr/bin/time -v python -u ./tool.py --algorithm debug_ILP --file_name GRIA-CNS-RESUB.C0x1291.aligned.sorted.MinRQ998.reads.degenerate.fa.gz > output.log_ilp_rerun_20 2>&1 &\n"
     ]
    }
   ],
   "source": [
    "for i, file in enumerate(files):\n",
    "    mis_ilp_string = 'nohup /usr/bin/time -v python -u ./tool.py --algorithm debug_ILP --file_name reads.sorted.aligned.filtered.comp126362_c0_seq1.reads.degenerate.fa.gz > output.log_ilp_rerun_xxx 2>&1 &'\n",
    "\n",
    "    command = mis_ilp_string.replace('reads.sorted.aligned.filtered.comp126362_c0_seq1.reads.degenerate.fa.gz', file)\n",
    "    command = command.replace('output.log_ilp_rerun_xxx', 'output.log_ilp_rerun_' + str(i))\n",
    "    print(command)"
   ]
  },
  {
   "cell_type": "markdown",
   "metadata": {},
   "source": [
    "# Preprocess test"
   ]
  },
  {
   "cell_type": "code",
   "execution_count": 8,
   "metadata": {},
   "outputs": [
    {
     "name": "stdout",
     "output_type": "stream",
     "text": [
      "nohup /usr/bin/time -v python -u ./tool.py --algorithm preprocess_test --file_name reads.sorted.aligned.filtered.comp126362_c0_seq1.reads.degenerate.fa.gz > output.log_preprocess_test_0 2>&1 &\n",
      "nohup /usr/bin/time -v python -u ./tool.py --algorithm preprocess_test --file_name reads.sorted.aligned.filtered.comp136058_c0_seq1.reads.degenerate.fa.gz > output.log_preprocess_test_1 2>&1 &\n",
      "nohup /usr/bin/time -v python -u ./tool.py --algorithm preprocess_test --file_name reads.sorted.aligned.filtered.comp140439_c0_seq1.reads.degenerate.fa.gz > output.log_preprocess_test_2 2>&1 &\n",
      "nohup /usr/bin/time -v python -u ./tool.py --algorithm preprocess_test --file_name reads.sorted.aligned.filtered.comp140712_c0_seq3.reads.degenerate.fa.gz > output.log_preprocess_test_3 2>&1 &\n",
      "nohup /usr/bin/time -v python -u ./tool.py --algorithm preprocess_test --file_name reads.sorted.aligned.filtered.comp140910_c2_seq1.reads.degenerate.fa.gz > output.log_preprocess_test_4 2>&1 &\n",
      "nohup /usr/bin/time -v python -u ./tool.py --algorithm preprocess_test --file_name reads.sorted.aligned.filtered.comp140987_c3_seq1.reads.degenerate.fa.gz > output.log_preprocess_test_5 2>&1 &\n",
      "nohup /usr/bin/time -v python -u ./tool.py --algorithm preprocess_test --file_name reads.sorted.aligned.filtered.comp141044_c0_seq2.reads.degenerate.fa.gz > output.log_preprocess_test_6 2>&1 &\n",
      "nohup /usr/bin/time -v python -u ./tool.py --algorithm preprocess_test --file_name reads.sorted.aligned.filtered.comp141158_c1_seq2.reads.degenerate.fa.gz > output.log_preprocess_test_7 2>&1 &\n",
      "nohup /usr/bin/time -v python -u ./tool.py --algorithm preprocess_test --file_name reads.sorted.aligned.filtered.comp141378_c0_seq7.reads.degenerate.fa.gz > output.log_preprocess_test_8 2>&1 &\n",
      "nohup /usr/bin/time -v python -u ./tool.py --algorithm preprocess_test --file_name reads.sorted.aligned.filtered.comp141517_c0_seq1.reads.degenerate.fa.gz > output.log_preprocess_test_9 2>&1 &\n",
      "nohup /usr/bin/time -v python -u ./tool.py --algorithm preprocess_test --file_name reads.sorted.aligned.filtered.comp141532_c3_seq11.reads.degenerate.fa.gz > output.log_preprocess_test_10 2>&1 &\n",
      "nohup /usr/bin/time -v python -u ./tool.py --algorithm preprocess_test --file_name reads.sorted.aligned.filtered.comp141565_c6_seq3.reads.degenerate.fa.gz > output.log_preprocess_test_11 2>&1 &\n",
      "nohup /usr/bin/time -v python -u ./tool.py --algorithm preprocess_test --file_name reads.sorted.aligned.filtered.comp141574_c0_seq3.reads.degenerate.fa.gz > output.log_preprocess_test_12 2>&1 &\n",
      "nohup /usr/bin/time -v python -u ./tool.py --algorithm preprocess_test --file_name reads.sorted.aligned.filtered.comp141640_c0_seq1.reads.degenerate.fa.gz > output.log_preprocess_test_13 2>&1 &\n",
      "nohup /usr/bin/time -v python -u ./tool.py --algorithm preprocess_test --file_name reads.sorted.aligned.filtered.comp141684_c0_seq1.reads.degenerate.fa.gz > output.log_preprocess_test_14 2>&1 &\n",
      "nohup /usr/bin/time -v python -u ./tool.py --algorithm preprocess_test --file_name reads.sorted.aligned.filtered.comp141840_c0_seq2.reads.degenerate.fa.gz > output.log_preprocess_test_15 2>&1 &\n",
      "nohup /usr/bin/time -v python -u ./tool.py --algorithm preprocess_test --file_name reads.sorted.aligned.filtered.comp141880_c1_seq3.reads.degenerate.fa.gz > output.log_preprocess_test_16 2>&1 &\n",
      "nohup /usr/bin/time -v python -u ./tool.py --algorithm preprocess_test --file_name reads.sorted.aligned.filtered.comp141881_c0_seq3.reads.degenerate.fa.gz > output.log_preprocess_test_17 2>&1 &\n",
      "nohup /usr/bin/time -v python -u ./tool.py --algorithm preprocess_test --file_name reads.sorted.aligned.filtered.comp141882_c0_seq14.reads.degenerate.fa.gz > output.log_preprocess_test_18 2>&1 &\n",
      "nohup /usr/bin/time -v python -u ./tool.py --algorithm preprocess_test --file_name PCLO-CNS-RESUB.C0x1291.aligned.sorted.MinRQ998.reads.degenerate.fa.gz > output.log_preprocess_test_19 2>&1 &\n",
      "nohup /usr/bin/time -v python -u ./tool.py --algorithm preprocess_test --file_name GRIA-CNS-RESUB.C0x1291.aligned.sorted.MinRQ998.reads.degenerate.fa.gz > output.log_preprocess_test_20 2>&1 &\n"
     ]
    }
   ],
   "source": [
    "for i, file in enumerate(files):\n",
    "    mis_ilp_string = 'nohup /usr/bin/time -v python -u ./tool.py --algorithm preprocess_test --file_name reads.sorted.aligned.filtered.comp126362_c0_seq1.reads.degenerate.fa.gz > output.log_preprocess_test_xxx 2>&1 &'\n",
    "\n",
    "    command = mis_ilp_string.replace('reads.sorted.aligned.filtered.comp126362_c0_seq1.reads.degenerate.fa.gz', file)\n",
    "    command = command.replace('output.log_preprocess_test_xxx', 'output.log_preprocess_test_' + str(i))\n",
    "    print(command)"
   ]
  },
  {
   "cell_type": "markdown",
   "metadata": {},
   "source": [
    "# MIS ILP PART 1"
   ]
  },
  {
   "cell_type": "code",
   "execution_count": 9,
   "metadata": {},
   "outputs": [
    {
     "name": "stdout",
     "output_type": "stream",
     "text": [
      "nohup /usr/bin/time -v python -u ./tool.py --algorithm MIS_ILP_p1 --file_name reads.sorted.aligned.filtered.comp126362_c0_seq1.reads.degenerate.fa.gz > output.log_mis_ilp_p1_0 2>&1 &\n",
      "nohup /usr/bin/time -v python -u ./tool.py --algorithm MIS_ILP_p1 --file_name reads.sorted.aligned.filtered.comp136058_c0_seq1.reads.degenerate.fa.gz > output.log_mis_ilp_p1_1 2>&1 &\n",
      "nohup /usr/bin/time -v python -u ./tool.py --algorithm MIS_ILP_p1 --file_name reads.sorted.aligned.filtered.comp140439_c0_seq1.reads.degenerate.fa.gz > output.log_mis_ilp_p1_2 2>&1 &\n",
      "nohup /usr/bin/time -v python -u ./tool.py --algorithm MIS_ILP_p1 --file_name reads.sorted.aligned.filtered.comp140712_c0_seq3.reads.degenerate.fa.gz > output.log_mis_ilp_p1_3 2>&1 &\n",
      "nohup /usr/bin/time -v python -u ./tool.py --algorithm MIS_ILP_p1 --file_name reads.sorted.aligned.filtered.comp140910_c2_seq1.reads.degenerate.fa.gz > output.log_mis_ilp_p1_4 2>&1 &\n",
      "nohup /usr/bin/time -v python -u ./tool.py --algorithm MIS_ILP_p1 --file_name reads.sorted.aligned.filtered.comp140987_c3_seq1.reads.degenerate.fa.gz > output.log_mis_ilp_p1_5 2>&1 &\n",
      "nohup /usr/bin/time -v python -u ./tool.py --algorithm MIS_ILP_p1 --file_name reads.sorted.aligned.filtered.comp141044_c0_seq2.reads.degenerate.fa.gz > output.log_mis_ilp_p1_6 2>&1 &\n",
      "nohup /usr/bin/time -v python -u ./tool.py --algorithm MIS_ILP_p1 --file_name reads.sorted.aligned.filtered.comp141158_c1_seq2.reads.degenerate.fa.gz > output.log_mis_ilp_p1_7 2>&1 &\n",
      "nohup /usr/bin/time -v python -u ./tool.py --algorithm MIS_ILP_p1 --file_name reads.sorted.aligned.filtered.comp141378_c0_seq7.reads.degenerate.fa.gz > output.log_mis_ilp_p1_8 2>&1 &\n",
      "nohup /usr/bin/time -v python -u ./tool.py --algorithm MIS_ILP_p1 --file_name reads.sorted.aligned.filtered.comp141517_c0_seq1.reads.degenerate.fa.gz > output.log_mis_ilp_p1_9 2>&1 &\n",
      "nohup /usr/bin/time -v python -u ./tool.py --algorithm MIS_ILP_p1 --file_name reads.sorted.aligned.filtered.comp141532_c3_seq11.reads.degenerate.fa.gz > output.log_mis_ilp_p1_10 2>&1 &\n",
      "nohup /usr/bin/time -v python -u ./tool.py --algorithm MIS_ILP_p1 --file_name reads.sorted.aligned.filtered.comp141565_c6_seq3.reads.degenerate.fa.gz > output.log_mis_ilp_p1_11 2>&1 &\n",
      "nohup /usr/bin/time -v python -u ./tool.py --algorithm MIS_ILP_p1 --file_name reads.sorted.aligned.filtered.comp141574_c0_seq3.reads.degenerate.fa.gz > output.log_mis_ilp_p1_12 2>&1 &\n",
      "nohup /usr/bin/time -v python -u ./tool.py --algorithm MIS_ILP_p1 --file_name reads.sorted.aligned.filtered.comp141640_c0_seq1.reads.degenerate.fa.gz > output.log_mis_ilp_p1_13 2>&1 &\n",
      "nohup /usr/bin/time -v python -u ./tool.py --algorithm MIS_ILP_p1 --file_name reads.sorted.aligned.filtered.comp141684_c0_seq1.reads.degenerate.fa.gz > output.log_mis_ilp_p1_14 2>&1 &\n",
      "nohup /usr/bin/time -v python -u ./tool.py --algorithm MIS_ILP_p1 --file_name reads.sorted.aligned.filtered.comp141840_c0_seq2.reads.degenerate.fa.gz > output.log_mis_ilp_p1_15 2>&1 &\n",
      "nohup /usr/bin/time -v python -u ./tool.py --algorithm MIS_ILP_p1 --file_name reads.sorted.aligned.filtered.comp141880_c1_seq3.reads.degenerate.fa.gz > output.log_mis_ilp_p1_16 2>&1 &\n",
      "nohup /usr/bin/time -v python -u ./tool.py --algorithm MIS_ILP_p1 --file_name reads.sorted.aligned.filtered.comp141881_c0_seq3.reads.degenerate.fa.gz > output.log_mis_ilp_p1_17 2>&1 &\n",
      "nohup /usr/bin/time -v python -u ./tool.py --algorithm MIS_ILP_p1 --file_name reads.sorted.aligned.filtered.comp141882_c0_seq14.reads.degenerate.fa.gz > output.log_mis_ilp_p1_18 2>&1 &\n",
      "nohup /usr/bin/time -v python -u ./tool.py --algorithm MIS_ILP_p1 --file_name PCLO-CNS-RESUB.C0x1291.aligned.sorted.MinRQ998.reads.degenerate.fa.gz > output.log_mis_ilp_p1_19 2>&1 &\n",
      "nohup /usr/bin/time -v python -u ./tool.py --algorithm MIS_ILP_p1 --file_name GRIA-CNS-RESUB.C0x1291.aligned.sorted.MinRQ998.reads.degenerate.fa.gz > output.log_mis_ilp_p1_20 2>&1 &\n"
     ]
    }
   ],
   "source": [
    "for i, file in enumerate(files):\n",
    "    mis_ilp_string = 'nohup /usr/bin/time -v python -u ./tool.py --algorithm MIS_ILP_p1 --file_name reads.sorted.aligned.filtered.comp126362_c0_seq1.reads.degenerate.fa.gz > output.log_xxx 2>&1 &'\n",
    "\n",
    "    command = mis_ilp_string.replace('reads.sorted.aligned.filtered.comp126362_c0_seq1.reads.degenerate.fa.gz', file)\n",
    "    command = command.replace('output.log_xxx', 'output.log_mis_ilp_p1_' + str(i))\n",
    "    print(command)"
   ]
  },
  {
   "cell_type": "markdown",
   "metadata": {},
   "source": [
    "# MIS ILP PART 2"
   ]
  },
  {
   "cell_type": "code",
   "execution_count": 10,
   "metadata": {},
   "outputs": [
    {
     "name": "stdout",
     "output_type": "stream",
     "text": [
      "nohup /usr/bin/time -v python -u ./tool.py --algorithm MIS_ILP_p2 --file_name reads.sorted.aligned.filtered.comp126362_c0_seq1.reads.degenerate.fa.gz > output.log_mis_ilp_p2_0 2>&1 &\n",
      "nohup /usr/bin/time -v python -u ./tool.py --algorithm MIS_ILP_p2 --file_name reads.sorted.aligned.filtered.comp136058_c0_seq1.reads.degenerate.fa.gz > output.log_mis_ilp_p2_1 2>&1 &\n",
      "nohup /usr/bin/time -v python -u ./tool.py --algorithm MIS_ILP_p2 --file_name reads.sorted.aligned.filtered.comp140439_c0_seq1.reads.degenerate.fa.gz > output.log_mis_ilp_p2_2 2>&1 &\n",
      "nohup /usr/bin/time -v python -u ./tool.py --algorithm MIS_ILP_p2 --file_name reads.sorted.aligned.filtered.comp140712_c0_seq3.reads.degenerate.fa.gz > output.log_mis_ilp_p2_3 2>&1 &\n",
      "nohup /usr/bin/time -v python -u ./tool.py --algorithm MIS_ILP_p2 --file_name reads.sorted.aligned.filtered.comp140910_c2_seq1.reads.degenerate.fa.gz > output.log_mis_ilp_p2_4 2>&1 &\n",
      "nohup /usr/bin/time -v python -u ./tool.py --algorithm MIS_ILP_p2 --file_name reads.sorted.aligned.filtered.comp140987_c3_seq1.reads.degenerate.fa.gz > output.log_mis_ilp_p2_5 2>&1 &\n",
      "nohup /usr/bin/time -v python -u ./tool.py --algorithm MIS_ILP_p2 --file_name reads.sorted.aligned.filtered.comp141044_c0_seq2.reads.degenerate.fa.gz > output.log_mis_ilp_p2_6 2>&1 &\n",
      "nohup /usr/bin/time -v python -u ./tool.py --algorithm MIS_ILP_p2 --file_name reads.sorted.aligned.filtered.comp141158_c1_seq2.reads.degenerate.fa.gz > output.log_mis_ilp_p2_7 2>&1 &\n",
      "nohup /usr/bin/time -v python -u ./tool.py --algorithm MIS_ILP_p2 --file_name reads.sorted.aligned.filtered.comp141378_c0_seq7.reads.degenerate.fa.gz > output.log_mis_ilp_p2_8 2>&1 &\n",
      "nohup /usr/bin/time -v python -u ./tool.py --algorithm MIS_ILP_p2 --file_name reads.sorted.aligned.filtered.comp141517_c0_seq1.reads.degenerate.fa.gz > output.log_mis_ilp_p2_9 2>&1 &\n",
      "nohup /usr/bin/time -v python -u ./tool.py --algorithm MIS_ILP_p2 --file_name reads.sorted.aligned.filtered.comp141532_c3_seq11.reads.degenerate.fa.gz > output.log_mis_ilp_p2_10 2>&1 &\n",
      "nohup /usr/bin/time -v python -u ./tool.py --algorithm MIS_ILP_p2 --file_name reads.sorted.aligned.filtered.comp141565_c6_seq3.reads.degenerate.fa.gz > output.log_mis_ilp_p2_11 2>&1 &\n",
      "nohup /usr/bin/time -v python -u ./tool.py --algorithm MIS_ILP_p2 --file_name reads.sorted.aligned.filtered.comp141574_c0_seq3.reads.degenerate.fa.gz > output.log_mis_ilp_p2_12 2>&1 &\n",
      "nohup /usr/bin/time -v python -u ./tool.py --algorithm MIS_ILP_p2 --file_name reads.sorted.aligned.filtered.comp141640_c0_seq1.reads.degenerate.fa.gz > output.log_mis_ilp_p2_13 2>&1 &\n",
      "nohup /usr/bin/time -v python -u ./tool.py --algorithm MIS_ILP_p2 --file_name reads.sorted.aligned.filtered.comp141684_c0_seq1.reads.degenerate.fa.gz > output.log_mis_ilp_p2_14 2>&1 &\n",
      "nohup /usr/bin/time -v python -u ./tool.py --algorithm MIS_ILP_p2 --file_name reads.sorted.aligned.filtered.comp141840_c0_seq2.reads.degenerate.fa.gz > output.log_mis_ilp_p2_15 2>&1 &\n",
      "nohup /usr/bin/time -v python -u ./tool.py --algorithm MIS_ILP_p2 --file_name reads.sorted.aligned.filtered.comp141880_c1_seq3.reads.degenerate.fa.gz > output.log_mis_ilp_p2_16 2>&1 &\n",
      "nohup /usr/bin/time -v python -u ./tool.py --algorithm MIS_ILP_p2 --file_name reads.sorted.aligned.filtered.comp141881_c0_seq3.reads.degenerate.fa.gz > output.log_mis_ilp_p2_17 2>&1 &\n",
      "nohup /usr/bin/time -v python -u ./tool.py --algorithm MIS_ILP_p2 --file_name reads.sorted.aligned.filtered.comp141882_c0_seq14.reads.degenerate.fa.gz > output.log_mis_ilp_p2_18 2>&1 &\n",
      "nohup /usr/bin/time -v python -u ./tool.py --algorithm MIS_ILP_p2 --file_name PCLO-CNS-RESUB.C0x1291.aligned.sorted.MinRQ998.reads.degenerate.fa.gz > output.log_mis_ilp_p2_19 2>&1 &\n",
      "nohup /usr/bin/time -v python -u ./tool.py --algorithm MIS_ILP_p2 --file_name GRIA-CNS-RESUB.C0x1291.aligned.sorted.MinRQ998.reads.degenerate.fa.gz > output.log_mis_ilp_p2_20 2>&1 &\n"
     ]
    }
   ],
   "source": [
    "for i, file in enumerate(files):\n",
    "    mis_ilp_string = 'nohup /usr/bin/time -v python -u ./tool.py --algorithm MIS_ILP_p2 --file_name reads.sorted.aligned.filtered.comp126362_c0_seq1.reads.degenerate.fa.gz > output.log_xxx 2>&1 &'\n",
    "\n",
    "    command = mis_ilp_string.replace('reads.sorted.aligned.filtered.comp126362_c0_seq1.reads.degenerate.fa.gz', file)\n",
    "    command = command.replace('output.log_xxx', 'output.log_mis_ilp_p2_' + str(i))\n",
    "    print(command)"
   ]
  },
  {
   "cell_type": "code",
   "execution_count": 11,
   "metadata": {},
   "outputs": [
    {
     "name": "stdout",
     "output_type": "stream",
     "text": [
      "nohup /usr/bin/time -v python -u ./tool.py --algorithm MIS_ILP_p2 --file_name GRIA-CNS-RESUB.C0x1291.aligned.sorted.MinRQ998.reads.degenerate.fa.gz --ILP_time_restriction_in_minutes 1440 > output.log_mis_ilp_p2_20 2>&1 &\n"
     ]
    }
   ],
   "source": [
    "print('nohup /usr/bin/time -v python -u ./tool.py --algorithm MIS_ILP_p2 --file_name GRIA-CNS-RESUB.C0x1291.aligned.sorted.MinRQ998.reads.degenerate.fa.gz --ILP_time_restriction_in_minutes 1440 > output.log_mis_ilp_p2_20 2>&1 &')"
   ]
  },
  {
   "cell_type": "markdown",
   "metadata": {},
   "source": [
    "# Verify FISCC"
   ]
  },
  {
   "cell_type": "code",
   "execution_count": 13,
   "metadata": {},
   "outputs": [
    {
     "name": "stdout",
     "output_type": "stream",
     "text": [
      "nohup python -u ./tool.py --algorithm verify_solution --file_name reads.sorted.aligned.filtered.comp126362_c0_seq1.reads.degenerate.fa.gz > output.log_verification_0 2>&1 &\n",
      "nohup python -u ./tool.py --algorithm verify_solution --file_name reads.sorted.aligned.filtered.comp136058_c0_seq1.reads.degenerate.fa.gz > output.log_verification_1 2>&1 &\n",
      "nohup python -u ./tool.py --algorithm verify_solution --file_name reads.sorted.aligned.filtered.comp140439_c0_seq1.reads.degenerate.fa.gz > output.log_verification_2 2>&1 &\n",
      "nohup python -u ./tool.py --algorithm verify_solution --file_name reads.sorted.aligned.filtered.comp140712_c0_seq3.reads.degenerate.fa.gz > output.log_verification_3 2>&1 &\n",
      "nohup python -u ./tool.py --algorithm verify_solution --file_name reads.sorted.aligned.filtered.comp140910_c2_seq1.reads.degenerate.fa.gz > output.log_verification_4 2>&1 &\n",
      "nohup python -u ./tool.py --algorithm verify_solution --file_name reads.sorted.aligned.filtered.comp140987_c3_seq1.reads.degenerate.fa.gz > output.log_verification_5 2>&1 &\n",
      "nohup python -u ./tool.py --algorithm verify_solution --file_name reads.sorted.aligned.filtered.comp141044_c0_seq2.reads.degenerate.fa.gz > output.log_verification_6 2>&1 &\n",
      "nohup python -u ./tool.py --algorithm verify_solution --file_name reads.sorted.aligned.filtered.comp141158_c1_seq2.reads.degenerate.fa.gz > output.log_verification_7 2>&1 &\n",
      "nohup python -u ./tool.py --algorithm verify_solution --file_name reads.sorted.aligned.filtered.comp141378_c0_seq7.reads.degenerate.fa.gz > output.log_verification_8 2>&1 &\n",
      "nohup python -u ./tool.py --algorithm verify_solution --file_name reads.sorted.aligned.filtered.comp141517_c0_seq1.reads.degenerate.fa.gz > output.log_verification_9 2>&1 &\n",
      "nohup python -u ./tool.py --algorithm verify_solution --file_name reads.sorted.aligned.filtered.comp141532_c3_seq11.reads.degenerate.fa.gz > output.log_verification_10 2>&1 &\n",
      "nohup python -u ./tool.py --algorithm verify_solution --file_name reads.sorted.aligned.filtered.comp141565_c6_seq3.reads.degenerate.fa.gz > output.log_verification_11 2>&1 &\n",
      "nohup python -u ./tool.py --algorithm verify_solution --file_name reads.sorted.aligned.filtered.comp141574_c0_seq3.reads.degenerate.fa.gz > output.log_verification_12 2>&1 &\n",
      "nohup python -u ./tool.py --algorithm verify_solution --file_name reads.sorted.aligned.filtered.comp141640_c0_seq1.reads.degenerate.fa.gz > output.log_verification_13 2>&1 &\n",
      "nohup python -u ./tool.py --algorithm verify_solution --file_name reads.sorted.aligned.filtered.comp141684_c0_seq1.reads.degenerate.fa.gz > output.log_verification_14 2>&1 &\n",
      "nohup python -u ./tool.py --algorithm verify_solution --file_name reads.sorted.aligned.filtered.comp141840_c0_seq2.reads.degenerate.fa.gz > output.log_verification_15 2>&1 &\n",
      "nohup python -u ./tool.py --algorithm verify_solution --file_name reads.sorted.aligned.filtered.comp141880_c1_seq3.reads.degenerate.fa.gz > output.log_verification_16 2>&1 &\n",
      "nohup python -u ./tool.py --algorithm verify_solution --file_name reads.sorted.aligned.filtered.comp141881_c0_seq3.reads.degenerate.fa.gz > output.log_verification_17 2>&1 &\n",
      "nohup python -u ./tool.py --algorithm verify_solution --file_name reads.sorted.aligned.filtered.comp141882_c0_seq14.reads.degenerate.fa.gz > output.log_verification_18 2>&1 &\n",
      "nohup python -u ./tool.py --algorithm verify_solution --file_name PCLO-CNS-RESUB.C0x1291.aligned.sorted.MinRQ998.reads.degenerate.fa.gz > output.log_verification_19 2>&1 &\n",
      "nohup python -u ./tool.py --algorithm verify_solution --file_name GRIA-CNS-RESUB.C0x1291.aligned.sorted.MinRQ998.reads.degenerate.fa.gz > output.log_verification_20 2>&1 &\n"
     ]
    }
   ],
   "source": [
    "for i, file in enumerate(files):\n",
    "    mis_ilp_string = 'nohup python -u ./tool.py --algorithm verify_solution --file_name reads.sorted.aligned.filtered.comp126362_c0_seq1.reads.degenerate.fa.gz > output.log_xxx 2>&1 &'\n",
    "\n",
    "    command = mis_ilp_string.replace('reads.sorted.aligned.filtered.comp126362_c0_seq1.reads.degenerate.fa.gz', file)\n",
    "    command = command.replace('output.log_xxx', 'output.log_verification_' + str(i))\n",
    "    print(command)"
   ]
  }
 ],
 "metadata": {
  "kernelspec": {
   "display_name": "Python 3",
   "language": "python",
   "name": "python3"
  },
  "language_info": {
   "codemirror_mode": {
    "name": "ipython",
    "version": 3
   },
   "file_extension": ".py",
   "mimetype": "text/x-python",
   "name": "python",
   "nbconvert_exporter": "python",
   "pygments_lexer": "ipython3",
   "version": "3.11.4"
  }
 },
 "nbformat": 4,
 "nbformat_minor": 2
}
