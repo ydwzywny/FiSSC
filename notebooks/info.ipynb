{
 "cells": [
  {
   "cell_type": "code",
   "execution_count": 1,
   "metadata": {},
   "outputs": [],
   "source": [
    "import os\n",
    "import numpy as np\n",
    "import pandas as pd\n",
    "import gzip\n",
    "from Bio import SeqIO\n"
   ]
  },
  {
   "cell_type": "code",
   "execution_count": 10,
   "metadata": {},
   "outputs": [
    {
     "name": "stdout",
     "output_type": "stream",
     "text": [
      "GRIA2 & long_reads & 71433 & 52953 & 109 \\\\\n",
      "PCLO & long_reads & 66275 & 52619 & 144 \\\\\n",
      "ABL_DROME & short_reads & 526030 & 421238 & 70 \\\\\n",
      "TWK7_CAEEL & short_reads & 751071 & 510909 & 53 \\\\\n",
      "CA2D3_MOUSE & short_reads & 1093306 & 316931 & 29 \\\\\n",
      "RIMS2_RAT & short_reads & 988891 & 638769 & 48 \\\\\n",
      "ANR17_HUMAN & short_reads & 452474 & 242745 & 44 \\\\\n",
      "ACHA4_MOUSE & short_reads & 728280 & 603862 & 44 \\\\\n",
      "TRIM2_BOVIN & short_reads & 214608 & 189297 & 43 \\\\\n",
      "CACB2_RABIT & short_reads & 799189 & 379584 & 25 \\\\\n",
      "SCN1_HETBL & short_reads & 363171 & 333336 & 64 \\\\\n",
      "DGLA_HUMAN & short_reads & 331878 & 309182 & 72 \\\\\n",
      "MTUS2_HUMAN & short_reads & 726183 & 588768 & 60 \\\\\n",
      "IQEC1_HUMAN & short_reads & 599981 & 536053 & 63 \\\\\n",
      "ROBO2_HUMAN & short_reads & 1455078 & 1040589 & 59 \\\\\n",
      "KCNAS_DROME & short_reads & 594543 & 250919 & 26 \\\\\n",
      "CSKI1_MOUSE & short_reads & 957020 & 759863 & 52 \\\\\n",
      "K0513_MOUSE & short_reads & 882144 & 490892 & 42 \\\\\n",
      "DOP1_HUMAN & short_reads & 576064 & 483561 & 74 \\\\\n",
      "RUSC2_MOUSE & short_reads & 923687 & 212926 & 20 \\\\\n",
      "PCLO_CHICK & short_reads & 912637 & 632294 & 45 \\\\\n"
     ]
    }
   ],
   "source": [
    "for data_type in ['long_reads', 'short_reads']: \n",
    "    files = os.listdir('../data/'+data_type)\n",
    "    files = [file for file in files if file.endswith('.fa.gz')]\n",
    "\n",
    "    for file in files:\n",
    "        path = '../data/'+data_type+'/'+file\n",
    "        # read the sipped fasta file\n",
    "        with gzip.open(path, \"rt\") as handle:\n",
    "           experiment_name = handle.readline().split()[-1]\n",
    "           reads_total = len(list(SeqIO.parse(handle, \"fasta\")))\n",
    "\n",
    "        # get how many after processing\n",
    "        path = path.replace('.fa.gz', '.csv')\n",
    "        df = pd.read_csv(path)\n",
    "        reads_unique = len(df)\n",
    "        n_degenerative_positions = len(df['Sequence'].values[0])\n",
    "        print(f'{experiment_name} & {data_type} & {reads_total} & {reads_unique} & {n_degenerative_positions} \\\\\\\\')\n",
    "        \n"
   ]
  },
  {
   "cell_type": "code",
   "execution_count": null,
   "metadata": {},
   "outputs": [],
   "source": []
  },
  {
   "cell_type": "code",
   "execution_count": null,
   "metadata": {},
   "outputs": [],
   "source": []
  }
 ],
 "metadata": {
  "kernelspec": {
   "display_name": "Python 3",
   "language": "python",
   "name": "python3"
  },
  "language_info": {
   "codemirror_mode": {
    "name": "ipython",
    "version": 3
   },
   "file_extension": ".py",
   "mimetype": "text/x-python",
   "name": "python",
   "nbconvert_exporter": "python",
   "pygments_lexer": "ipython3",
   "version": "3.11.4"
  }
 },
 "nbformat": 4,
 "nbformat_minor": 2
}
