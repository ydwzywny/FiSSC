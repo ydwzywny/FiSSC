{
 "cells": [
  {
   "cell_type": "code",
   "execution_count": 2,
   "metadata": {},
   "outputs": [],
   "source": [
    "import gzip\n",
    "\n",
    "input_file = '../data/reads.sorted.aligned.filtered.comp126362_c0_seq1.reads.degenerate.fa.gz'\n",
    "output_file = '../data/example.fa.gz'\n",
    "\n",
    "# Open the input gz file\n",
    "with gzip.open(input_file, 'rt') as infile:\n",
    "    # Open the output gz file\n",
    "    with gzip.open(output_file, 'wt') as outfile:\n",
    "        # Read and write the first 100 lines\n",
    "        for i in range(100):\n",
    "            line = infile.readline()\n",
    "            if not line:\n",
    "                break\n",
    "            outfile.write(line)\n"
   ]
  }
 ],
 "metadata": {
  "kernelspec": {
   "display_name": "Python 3",
   "language": "python",
   "name": "python3"
  },
  "language_info": {
   "codemirror_mode": {
    "name": "ipython",
    "version": 3
   },
   "file_extension": ".py",
   "mimetype": "text/x-python",
   "name": "python",
   "nbconvert_exporter": "python",
   "pygments_lexer": "ipython3",
   "version": "3.11.4"
  }
 },
 "nbformat": 4,
 "nbformat_minor": 2
}
